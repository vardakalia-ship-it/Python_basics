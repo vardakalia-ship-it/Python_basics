{
  "nbformat": 4,
  "nbformat_minor": 0,
  "metadata": {
    "colab": {
      "provenance": []
    },
    "kernelspec": {
      "name": "python3",
      "display_name": "Python 3"
    },
    "language_info": {
      "name": "python"
    }
  },
  "cells": [
    {
      "cell_type": "markdown",
      "source": [
        "#Theory Questions\n",
        "\n"
      ],
      "metadata": {
        "id": "a5EXNgiYQcob"
      }
    },
    {
      "cell_type": "code",
      "execution_count": null,
      "metadata": {
        "id": "gFzjFQvWQUu3"
      },
      "outputs": [],
      "source": []
    },
    {
      "cell_type": "markdown",
      "source": [
        "1. What is Python, and why is it popular?\n",
        "**Ans-** Python ia a programming language which can be used for various tasks like data analysis, for making websites etc. It is popular because it is simple to understand and it has huge active community.\n",
        "2. What is an interpreter in Python?\n",
        "**Ans-** It converts the code into machine code and helps in executing the code.\n",
        "3. What are pre-defined keywords in Python?\n",
        "**Ans**- Pre-defined keywords hold a special meaning and have specific purpose For example-if, else.\n",
        "4.Can keywords be used as variable names?\n",
        "**Ans**- No, we should not use it because then those keywords won't be able to perform their own specific task.For example if take print as varaibale then it can't be used as to print statements.\n",
        "5.What is mutability in Python?\n",
        "**Ans**- It means those values that can be changed after they are created.\n",
        "6.  Why are lists mutable, but tuples are immutable?\n",
        "**Ans**- This is because in lists we can change the elements but in tuples we cannot change the elements, those are fixed and cannot be altered.\n",
        "7. What is the difference between “==” and “is” operators in Python?\n",
        "**Ans-** == is a comparison operator and stands for equals to whereas \"is\" is a identity operator and stands for comparing the location of two objects. for example, 2==2 output will be true\n",
        "a=2\n",
        "b=3\n",
        "a is b #output will be False.\n",
        "8. What are logical operators in Python?\n",
        "**Ans-** Logical operators are-\n",
        "    1. AND- all conditions should be true\n",
        "    2. OR- any 1 condition should be true\n",
        "    3. NOT- gives opposite result, for example- NOT true # output will be False\n",
        "9. What is type casting in Python?\n",
        "**Ans-** It is a process of changing data type of a value/object. for example you cannot add a string and integer, you will have to convert into both integers, and converting string into integer is called type catsing, a =\"2\" is a string if you will use int(a), this is type casting.\n",
        "10. What is the difference between implicit and explicit type casting?\n",
        "**Ans**- Implicit - Python understand the data type.\n",
        "     Explicit - Convert data type using in built functionslike str, int, float.\n",
        "11. What is the purpose of conditional statements in Python?\n",
        "**Ans-** conditional statements decide the execution of code depending that condition become True or False.\n",
        "12. How does the elif statement work?\n",
        "**Ans-** It helps you check multiple conditions one after another.\n",
        "13. What is the difference between for and while loops?\n",
        "**Ans-** For loop repeats a known number of times while loop depends on condition, it repeats until a condition fails.\n",
        "14. Describe a scenario where a while loop is more suitable than a for loop?\n",
        "**Ans-** while loop is more suitable when you want a condition to be satisfy.\n",
        "\n"
      ],
      "metadata": {
        "id": "sZxoIp1jadc1"
      }
    },
    {
      "cell_type": "markdown",
      "source": [
        "PRACTICAL QUESTIONS\n"
      ],
      "metadata": {
        "id": "Lcg6I7VWnOi6"
      }
    },
    {
      "cell_type": "code",
      "source": [
        "# Write a Python program to print \"Hello, World\n",
        "print (\"Hello, World!\")"
      ],
      "metadata": {
        "colab": {
          "base_uri": "https://localhost:8080/"
        },
        "id": "6JDGfZoxnYfF",
        "outputId": "1a4d7bab-c618-4eb9-85d0-450f0fc570aa"
      },
      "execution_count": 2,
      "outputs": [
        {
          "output_type": "stream",
          "name": "stdout",
          "text": [
            "Hello, World!\n"
          ]
        }
      ]
    },
    {
      "cell_type": "code",
      "source": [
        "#Write a Python program that displays your name and age\n",
        "name = \"Varda\"\n",
        "age = 30\n",
        "print(name, age)"
      ],
      "metadata": {
        "colab": {
          "base_uri": "https://localhost:8080/"
        },
        "id": "TAW8iwCNoBLq",
        "outputId": "1a64e29a-d9ad-451c-f957-6fcde35129b5"
      },
      "execution_count": 3,
      "outputs": [
        {
          "output_type": "stream",
          "name": "stdout",
          "text": [
            "Varda 30\n"
          ]
        }
      ]
    },
    {
      "cell_type": "code",
      "source": [
        "#Write code to print all the pre-defined keywords in Python using the keyword library\n",
        "help('keywords')"
      ],
      "metadata": {
        "colab": {
          "base_uri": "https://localhost:8080/"
        },
        "id": "X_V89Oy5oU9z",
        "outputId": "4dd8b1d4-8d2b-4dd2-fc40-9c5138b27db6"
      },
      "execution_count": 4,
      "outputs": [
        {
          "output_type": "stream",
          "name": "stdout",
          "text": [
            "\n",
            "Here is a list of the Python keywords.  Enter any keyword to get more help.\n",
            "\n",
            "False               class               from                or\n",
            "None                continue            global              pass\n",
            "True                def                 if                  raise\n",
            "and                 del                 import              return\n",
            "as                  elif                in                  try\n",
            "assert              else                is                  while\n",
            "async               except              lambda              with\n",
            "await               finally             nonlocal            yield\n",
            "break               for                 not                 \n",
            "\n"
          ]
        }
      ]
    },
    {
      "cell_type": "code",
      "source": [
        "#Write a program that checks if a given word is a Python keyword.\n",
        "import keyword\n",
        "word = input(\"enter the word please\")\n",
        "if keyword.iskeyword(word):\n",
        "  print(word, \"is a keyword\")\n",
        "else:\n",
        "  print(word, \"is not a keyword\")\n"
      ],
      "metadata": {
        "colab": {
          "base_uri": "https://localhost:8080/"
        },
        "id": "wptsR0x7o1xK",
        "outputId": "c2851be0-770b-4167-bddb-1d8eb64d30b3"
      },
      "execution_count": 5,
      "outputs": [
        {
          "output_type": "stream",
          "name": "stdout",
          "text": [
            "enter the word pleaseelse\n",
            "else is a keyword\n"
          ]
        }
      ]
    },
    {
      "cell_type": "code",
      "source": [
        "#Create a list and tuple in Python, and demonstrate how attempting to change an element works differently for each.\n",
        "a = [1,2 ,\"a\" ,5]\n",
        "print(a)\n",
        "a[2] = 3\n",
        "print(a)\n",
        "b= (1,2,\"a\",5)\n",
        "print(b)\n",
        "b[2]= 3\n",
        "print(b)\n",
        "\n"
      ],
      "metadata": {
        "colab": {
          "base_uri": "https://localhost:8080/",
          "height": 263
        },
        "id": "cXo8_LavzCn_",
        "outputId": "8cde7e45-efbd-4122-9bd7-f18f773a5cb8"
      },
      "execution_count": 7,
      "outputs": [
        {
          "output_type": "stream",
          "name": "stdout",
          "text": [
            "[1, 2, 'a', 5]\n",
            "[1, 2, 3, 5]\n",
            "(1, 2, 'a', 5)\n"
          ]
        },
        {
          "output_type": "error",
          "ename": "TypeError",
          "evalue": "'tuple' object does not support item assignment",
          "traceback": [
            "\u001b[0;31m---------------------------------------------------------------------------\u001b[0m",
            "\u001b[0;31mTypeError\u001b[0m                                 Traceback (most recent call last)",
            "\u001b[0;32m/tmp/ipython-input-3440231523.py\u001b[0m in \u001b[0;36m<cell line: 0>\u001b[0;34m()\u001b[0m\n\u001b[1;32m      6\u001b[0m \u001b[0mb\u001b[0m\u001b[0;34m=\u001b[0m \u001b[0;34m(\u001b[0m\u001b[0;36m1\u001b[0m\u001b[0;34m,\u001b[0m\u001b[0;36m2\u001b[0m\u001b[0;34m,\u001b[0m\u001b[0;34m\"a\"\u001b[0m\u001b[0;34m,\u001b[0m\u001b[0;36m5\u001b[0m\u001b[0;34m)\u001b[0m\u001b[0;34m\u001b[0m\u001b[0;34m\u001b[0m\u001b[0m\n\u001b[1;32m      7\u001b[0m \u001b[0mprint\u001b[0m\u001b[0;34m(\u001b[0m\u001b[0mb\u001b[0m\u001b[0;34m)\u001b[0m\u001b[0;34m\u001b[0m\u001b[0;34m\u001b[0m\u001b[0m\n\u001b[0;32m----> 8\u001b[0;31m \u001b[0mb\u001b[0m\u001b[0;34m[\u001b[0m\u001b[0;36m2\u001b[0m\u001b[0;34m]\u001b[0m\u001b[0;34m=\u001b[0m \u001b[0;36m3\u001b[0m\u001b[0;34m\u001b[0m\u001b[0;34m\u001b[0m\u001b[0m\n\u001b[0m\u001b[1;32m      9\u001b[0m \u001b[0mprint\u001b[0m\u001b[0;34m(\u001b[0m\u001b[0mb\u001b[0m\u001b[0;34m)\u001b[0m\u001b[0;34m\u001b[0m\u001b[0;34m\u001b[0m\u001b[0m\n\u001b[1;32m     10\u001b[0m \u001b[0;34m\u001b[0m\u001b[0m\n",
            "\u001b[0;31mTypeError\u001b[0m: 'tuple' object does not support item assignment"
          ]
        }
      ]
    },
    {
      "cell_type": "code",
      "source": [
        "#. Write a program that performs basic arithmetic operations on two user-input numbers.\n",
        "a =int(input(\"enter your first number\"))\n",
        "b= int(input(\"Enter you second number\"))\n",
        "c = a+b\n",
        "print(\"the addition of your two numbers is->\", a)"
      ],
      "metadata": {
        "colab": {
          "base_uri": "https://localhost:8080/"
        },
        "id": "-FAsVGNuz9rc",
        "outputId": "6ad1a9e1-901e-42b1-aa5c-eb57f8b5ec3d"
      },
      "execution_count": 9,
      "outputs": [
        {
          "output_type": "stream",
          "name": "stdout",
          "text": [
            "enter your first number4\n",
            "Enter you second number6\n",
            "the addition of your two numbers is-> 4\n"
          ]
        }
      ]
    },
    {
      "cell_type": "code",
      "source": [
        "#Write a program to demonstrate the use of logical operators.\n",
        "#and\n",
        "a = 10\n",
        "b = 5\n",
        "c = 3\n",
        "if a>b and a<c:\n",
        "  print(\"a is greater\")\n",
        "else:\n",
        "  print(\"a is not greater\")\n",
        "#or\n",
        "if a>b or a<c:\n",
        "  print(\"a is greater\")\n",
        "else:\n",
        "  print(\"a is not greater\")\n"
      ],
      "metadata": {
        "colab": {
          "base_uri": "https://localhost:8080/"
        },
        "id": "EuPKYefY0_Dn",
        "outputId": "44edc88e-a0d0-46fd-afd6-95b536bb2278"
      },
      "execution_count": 14,
      "outputs": [
        {
          "output_type": "stream",
          "name": "stdout",
          "text": [
            "a is not greater\n",
            "a is greater\n"
          ]
        }
      ]
    },
    {
      "cell_type": "code",
      "source": [
        "#Write a Python program to convert user input from string to integer, float, and boolean types\n",
        "user_inputs = input(\"Enter a value: \")\n",
        "integer_value = int(user_inputs)\n",
        "float_value = float(user_inputs)\n",
        "boolean_value = bool(user_inputs)\n",
        "print(\"Integer value is\", integer_value)\n",
        "print(\"Float value is:\", float_value)\n",
        "print(\"Boolean value is :\", boolean_value)\n"
      ],
      "metadata": {
        "colab": {
          "base_uri": "https://localhost:8080/"
        },
        "id": "YkqE4FAi7Iq3",
        "outputId": "e1a23f6e-6ad3-4cf8-ae74-e2af5167462e"
      },
      "execution_count": 16,
      "outputs": [
        {
          "output_type": "stream",
          "name": "stdout",
          "text": [
            "Enter a value: 8\n",
            "Integer value is 8\n",
            "Float value is: 8.0\n",
            "Boolean value is : True\n"
          ]
        }
      ]
    },
    {
      "cell_type": "code",
      "source": [
        "#Write code to demonstrate type casting with list elements\n",
        "num =[\"2\",\"3\",\"4\",\"5\"]\n",
        "print(type(num))\n",
        "a =int(num[0])\n",
        "b =int(num[1])\n",
        "c =int(num[2])\n",
        "d =int(num[3])\n",
        "print(a,b,c,d)\n"
      ],
      "metadata": {
        "colab": {
          "base_uri": "https://localhost:8080/"
        },
        "id": "Yiuj-G6r87eW",
        "outputId": "6bd37010-a317-42b9-b2c8-24d65736fa01"
      },
      "execution_count": 19,
      "outputs": [
        {
          "output_type": "stream",
          "name": "stdout",
          "text": [
            "<class 'list'>\n",
            "2 3 4 5\n"
          ]
        }
      ]
    },
    {
      "cell_type": "code",
      "source": [
        "#Write a program that checks if a number is positive, negative, or zero.\n",
        "num = float(input(\"Enter a number: \"))\n",
        "if num > 0:\n",
        "    print(\"The number is positive.\")\n",
        "elif num < 0:\n",
        "    print(\"The number is negative.\")\n",
        "else:\n",
        "    print(\"The number is zero.\")\n"
      ],
      "metadata": {
        "colab": {
          "base_uri": "https://localhost:8080/"
        },
        "id": "LluCovA9IpLe",
        "outputId": "eb7dc65a-8d05-4490-bdcd-d6fb843e99c9"
      },
      "execution_count": 20,
      "outputs": [
        {
          "output_type": "stream",
          "name": "stdout",
          "text": [
            "Enter a number: 8\n",
            "The number is positive.\n"
          ]
        }
      ]
    },
    {
      "cell_type": "code",
      "source": [
        "#Write a for loop to print numbers from 1 to 10.\n",
        "for i in range(1, 11):\n",
        "    print(i)\n"
      ],
      "metadata": {
        "colab": {
          "base_uri": "https://localhost:8080/"
        },
        "id": "ext5XKsVI7o6",
        "outputId": "19ed910b-d03f-4ee0-e895-1cd0469cefeb"
      },
      "execution_count": 21,
      "outputs": [
        {
          "output_type": "stream",
          "name": "stdout",
          "text": [
            "1\n",
            "2\n",
            "3\n",
            "4\n",
            "5\n",
            "6\n",
            "7\n",
            "8\n",
            "9\n",
            "10\n"
          ]
        }
      ]
    },
    {
      "cell_type": "code",
      "source": [
        "#Write a Python program to find the sum of all even numbers between 1 and 50\n",
        "\n",
        "total_sum = 0\n",
        "\n",
        "for num in range(1, 51):\n",
        "    if num % 2 == 0:\n",
        "        total_sum += num\n",
        "\n",
        "# Print the result\n",
        "print(\"The sum of even numbers is:\", total_sum)\n"
      ],
      "metadata": {
        "colab": {
          "base_uri": "https://localhost:8080/"
        },
        "id": "73M6DLBlJFjT",
        "outputId": "834f7de9-955c-47ec-acba-7234f9602757"
      },
      "execution_count": 22,
      "outputs": [
        {
          "output_type": "stream",
          "name": "stdout",
          "text": [
            "The sum of even numbers is: 650\n"
          ]
        }
      ]
    },
    {
      "cell_type": "code",
      "source": [
        "#Write a program to reverse a string using a while loop.\n",
        "text = input(\"Enter the word: \")\n",
        "i = len(text) - 1\n",
        "reverse_text = \"\"\n",
        "\n",
        "while i >= 0:\n",
        "    reverse_text = reverse_text + text[i]\n",
        "    i = i - 1\n",
        "\n",
        "print(\"Reversed string:\", reverse_text)\n"
      ],
      "metadata": {
        "colab": {
          "base_uri": "https://localhost:8080/"
        },
        "id": "AZQrE3OUJeRB",
        "outputId": "4b432990-7640-4fb0-b998-4976d8b37a18"
      },
      "execution_count": 23,
      "outputs": [
        {
          "output_type": "stream",
          "name": "stdout",
          "text": [
            "Enter the word: hello\n",
            "Reversed string: olleh\n"
          ]
        }
      ]
    },
    {
      "cell_type": "code",
      "source": [
        "#Write a Python program to calculate the factorial of a number provided by the user using a while loop\n",
        "num = int(input(\"Enter a number: \"))\n",
        "factorial = 1\n",
        "i = 1\n",
        "while i <= num:\n",
        "    factorial = factorial * i\n",
        "    i = i + 1\n",
        "print(\"Factorial of\", num, \"is\", factorial)\n"
      ],
      "metadata": {
        "colab": {
          "base_uri": "https://localhost:8080/"
        },
        "id": "ahN-yyEdKCVQ",
        "outputId": "85ef5441-0a49-4073-a4d3-0b995c357510"
      },
      "execution_count": 24,
      "outputs": [
        {
          "output_type": "stream",
          "name": "stdout",
          "text": [
            "Enter a number: 4\n",
            "Factorial of 4 is 24\n"
          ]
        }
      ]
    },
    {
      "cell_type": "code",
      "source": [],
      "metadata": {
        "id": "Kx7Dmy7cKq5e"
      },
      "execution_count": null,
      "outputs": []
    }
  ]
}